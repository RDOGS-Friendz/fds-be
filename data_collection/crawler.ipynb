{
 "cells": [
  {
   "cell_type": "code",
   "execution_count": 28,
   "id": "f68becfa-96c7-4431-94e5-741cde7b388c",
   "metadata": {},
   "outputs": [],
   "source": [
    "import requests\n",
    "\n",
    "data = {'FUNC': 'GetVenues'}\n",
    "response = requests.post(\"https://sports.tms.gov.tw/venues/ajax.php\", data=data)\n",
    "\n",
    "import json\n",
    "venues = json.loads(response.text)\n",
    "\n",
    "import csv\n",
    "\n",
    "# 開啟輸出的 CSV 檔案\n",
    "with open('location.csv', 'w', newline='') as csvfile:\n",
    "    # 建立 CSV 檔寫入器\n",
    "    writer = csv.writer(csvfile)\n",
    "\n",
    "    # 寫入一列資料\n",
    "    writer.writerow(['name'])\n",
    "    for venue in venues:\n",
    "        writer.writerow([str(venue['MainName'])+ ' ' +str(venue['Name'])])"
   ]
  },
  {
   "cell_type": "code",
   "execution_count": null,
   "id": "01a664d7-f491-469a-b2ca-3af94689c11d",
   "metadata": {},
   "outputs": [],
   "source": []
  }
 ],
 "metadata": {
  "kernelspec": {
   "display_name": "Python 3",
   "language": "python",
   "name": "python3"
  },
  "language_info": {
   "codemirror_mode": {
    "name": "ipython",
    "version": 3
   },
   "file_extension": ".py",
   "mimetype": "text/x-python",
   "name": "python",
   "nbconvert_exporter": "python",
   "pygments_lexer": "ipython3",
   "version": "3.8.8"
  }
 },
 "nbformat": 4,
 "nbformat_minor": 5
}
