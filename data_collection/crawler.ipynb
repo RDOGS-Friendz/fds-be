{
 "cells": [
  {
   "cell_type": "code",
   "execution_count": 28,
   "id": "f68becfa-96c7-4431-94e5-741cde7b388c",
   "metadata": {},
   "outputs": [],
   "source": [
    "import requests\n",
    "\n",
    "data = {'FUNC': 'GetVenues'}\n",
    "response = requests.post(\"https://sports.tms.gov.tw/venues/ajax.php\", data=data)\n",
    "\n",
    "import json\n",
    "venues = json.loads(response.text)\n",
    "\n",
    "import csv\n",
    "\n",
    "# 開啟輸出的 CSV 檔案\n",
    "with open('location.csv', 'w', newline='') as csvfile:\n",
    "    # 建立 CSV 檔寫入器\n",
    "    writer = csv.writer(csvfile)\n",
    "\n",
    "    # 寫入一列資料\n",
    "    writer.writerow(['name'])\n",
    "    for venue in venues:\n",
    "        writer.writerow([str(venue['MainName'])+ ' ' +str(venue['Name'])])"
   ]
  },
  {
   "cell_type": "code",
   "execution_count": 3,
   "id": "01a664d7-f491-469a-b2ca-3af94689c11d",
   "metadata": {},
   "outputs": [],
   "source": [
    "import requests\n",
    "headers={'User-Agent': 'Mozilla/5.0 (Windows NT 10.0; Win64; x64) AppleWebKit/537.36 (KHTML, like Gecko) Chrome/95.0.4638.54 Safari/537.36 Edg/95.0.1020.40'}\n",
    "response = requests.get(\"https://www.ntu.edu.tw/english/academics/academics_list.html\", headers=headers)"
   ]
  },
  {
   "cell_type": "code",
   "execution_count": 5,
   "id": "ae7deb9c-0e69-4c2a-b875-243731e485ba",
   "metadata": {},
   "outputs": [],
   "source": [
    "from bs4 import BeautifulSoup\n",
    "soup = BeautifulSoup(response.text, \"html.parser\")"
   ]
  },
  {
   "cell_type": "code",
   "execution_count": 19,
   "id": "f8f6d6ae-9bff-4d33-add0-3ac8f2818d4c",
   "metadata": {},
   "outputs": [
    {
     "name": "stdout",
     "output_type": "stream",
     "text": [
      "<class 'bs4.element.ResultSet'>\n"
     ]
    }
   ],
   "source": [
    "results = soup.find_all(\"ul\", class_=\"faqListInner\")\n",
    "departments = []\n",
    "wip = []\n",
    "for result in results:\n",
    "    wip.append(result.select(\"a\"))"
   ]
  },
  {
   "cell_type": "code",
   "execution_count": 28,
   "id": "49667fed-7a3b-4e2a-bfbd-81097ac86786",
   "metadata": {},
   "outputs": [],
   "source": [
    "for academy in wip:\n",
    "    for department in academy:\n",
    "        departments.append(department.getText())"
   ]
  },
  {
   "cell_type": "code",
   "execution_count": 30,
   "id": "a24874d1-4dee-4cb9-8a5e-ca7f7ce6ac4b",
   "metadata": {},
   "outputs": [],
   "source": [
    "departments = list(filter(lambda k: 'Department of ' in k, departments))"
   ]
  },
  {
   "cell_type": "code",
   "execution_count": 35,
   "id": "f862c95a-df5a-4e7f-b027-76684893abed",
   "metadata": {},
   "outputs": [],
   "source": [
    "import csv\n",
    "\n",
    "# 開啟輸出的 CSV 檔案\n",
    "with open('department.csv', 'w', newline='') as csvfile:\n",
    "    # 建立 CSV 檔寫入器\n",
    "    writer = csv.writer(csvfile)\n",
    "\n",
    "    # 寫入一列資料\n",
    "    writer.writerow(['school', 'department_name'])\n",
    "    for department in departments:\n",
    "        x = department.split(\"Department of \")\n",
    "        writer.writerow(['NTU', x[1]])        "
   ]
  },
  {
   "cell_type": "code",
   "execution_count": null,
   "id": "7cd9545c-c162-4d7a-bcdb-d5e64b1d288f",
   "metadata": {},
   "outputs": [],
   "source": []
  }
 ],
 "metadata": {
  "kernelspec": {
   "display_name": "Python 3",
   "language": "python",
   "name": "python3"
  },
  "language_info": {
   "codemirror_mode": {
    "name": "ipython",
    "version": 3
   },
   "file_extension": ".py",
   "mimetype": "text/x-python",
   "name": "python",
   "nbconvert_exporter": "python",
   "pygments_lexer": "ipython3",
   "version": "3.8.8"
  }
 },
 "nbformat": 4,
 "nbformat_minor": 5
}
